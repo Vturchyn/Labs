{
 "cells": [
  {
   "cell_type": "code",
   "execution_count": 3,
   "metadata": {},
   "outputs": [
    {
     "name": "stdout",
     "output_type": "stream",
     "text": [
      "Vitaliy start programming at 2022-09-11 23:15:41.224384\n"
     ]
    }
   ],
   "source": [
    "from datetime import datetime\n",
    "name = \"Vitaliy\"\n",
    "\n",
    "print(f\"{name} start programming at {datetime.now()}\")"
   ]
  },
  {
   "cell_type": "markdown",
   "metadata": {},
   "source": [
    "# Опис\n",
    "Ця програма виводе моє ім'я, фразу "starting programming" та даний час\n",
    "\n",
    "## Бібліотеки\n",
    "1. datetime"
   ]
  }
 ],
 "metadata": {
  "kernelspec": {
   "display_name": "Python 3.10.2 64-bit",
   "language": "python",
   "name": "python3"
  },
  "language_info": {
   "codemirror_mode": {
    "name": "ipython",
    "version": 3
   },
   "file_extension": ".py",
   "mimetype": "text/x-python",
   "name": "python",
   "nbconvert_exporter": "python",
   "pygments_lexer": "ipython3",
   "version": "3.10.2"
  },
  "orig_nbformat": 4,
  "vscode": {
   "interpreter": {
    "hash": "bb9d7a7fe8aa9601c25fc450dc71bd5f7ccbd20b54b6656b8dbf3e6eac2a77ef"
   }
  }
 },
 "nbformat": 4,
 "nbformat_minor": 2
}
