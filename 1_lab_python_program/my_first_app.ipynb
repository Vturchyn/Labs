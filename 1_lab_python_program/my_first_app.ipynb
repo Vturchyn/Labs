from datetime import datetime
name = "Vitaliy"

print(f"{name} start programming at {datetime.now()}")
